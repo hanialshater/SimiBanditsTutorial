{
 "cells": [
  {
   "cell_type": "code",
   "execution_count": 2,
   "metadata": {},
   "outputs": [],
   "source": [
    "from numpy import *\n",
    "from scipy.stats import beta\n",
    "import random\n",
    "\n",
    "\n",
    "class BetaBandit(object):\n",
    "    def __init__(self, num_options=2, prior=None):\n",
    "        self.trials = zeros(shape=(num_options,), dtype=int)\n",
    "        self.successes = zeros(shape=(num_options,), dtype=int)\n",
    "        self.num_options = num_options\n",
    "        if prior is None:\n",
    "            prior = [ (1.0, 1.0) for i in range(num_options)]\n",
    "        self.prior = prior\n",
    "\n",
    "    def add_result(self, trial_id, success):\n",
    "        self.trials[trial_id] = self.trials[trial_id] + 1\n",
    "        if (success):\n",
    "            self.successes[trial_id] = self.successes[trial_id] + 1\n",
    "\n",
    "    def get_recommendation(self):\n",
    "        sampled_theta = []\n",
    "        for i in range(self.num_options):\n",
    "            #Construct beta distribution for posterior\n",
    "            dist = beta(self.prior[i][0]+self.successes[i],\n",
    "                        self.prior[i][1]+self.trials[i]-self.successes[i])\n",
    "            #Draw sample from beta distribution\n",
    "            sampled_theta += [ dist.rvs() ]\n",
    "        # Return the index of the sample with the largest value\n",
    "        return sampled_theta.index( max(sampled_theta) )\n",
    "\n"
   ]
  },
  {
   "cell_type": "code",
   "execution_count": 3,
   "metadata": {
    "collapsed": true
   },
   "outputs": [],
   "source": [
    "prior_params = [(9.0,20.0), (4.0,20.0)]\n",
    "priors = [beta(*x) for x in prior_params]\n",
    "\n",
    "def gain(theta, choice):\n",
    "    if (random.random() < theta[choice]):\n",
    "        return 1\n",
    "    else:\n",
    "        return 0\n",
    "\n",
    "def gain_bandit(theta, num_trials):\n",
    "    bb = BetaBandit(2)\n",
    "    g = 0\n",
    "    for i in range(int(num_trials)):\n",
    "        choice = bb.get_recommendation()\n",
    "        g += gain(theta, choice)\n",
    "    return g\n",
    "\n",
    "def gain_prior(theta, num_trials):\n",
    "    bb = BetaBandit(2, prior_params)\n",
    "    g = 0\n",
    "    for i in range(int(num_trials)):\n",
    "        choice = bb.get_recommendation()\n",
    "        g += gain(theta, choice)\n",
    "    return g\n",
    "\n"
   ]
  },
  {
   "cell_type": "code",
   "execution_count": 5,
   "metadata": {},
   "outputs": [
    {
     "name": "stdout",
     "output_type": "stream",
     "text": [
      "Base gain: 0.253\n",
      "Prior gain: 0.29200000000000004\n"
     ]
    }
   ],
   "source": [
    "num_trials = 50.0\n",
    "N = 20\n",
    "tg = 0\n",
    "tgb = 0\n",
    "\n",
    "for i in range(N):\n",
    "    theta = [ p.rvs() for p in priors]\n",
    "    tg += gain_bandit(theta, num_trials) / num_trials\n",
    "    tgb += gain_prior(theta, num_trials) / num_trials\n",
    "\n",
    "print(\"Base gain: \" + str(float(tg)/N))\n",
    "print(\"Prior gain: \" + str(float(tgb)/N))"
   ]
  },
  {
   "cell_type": "code",
   "execution_count": 2,
   "metadata": {},
   "outputs": [
    {
     "data": {
      "text/plain": [
       "(array([1, 3]),)"
      ]
     },
     "execution_count": 2,
     "metadata": {},
     "output_type": "execute_result"
    }
   ],
   "source": [
    "import numpy as np\n",
    "np.where(np.array([1,2,1,2]) == 2)"
   ]
  },
  {
   "cell_type": "code",
   "execution_count": null,
   "metadata": {
    "collapsed": true
   },
   "outputs": [],
   "source": []
  }
 ],
 "metadata": {
  "kernelspec": {
   "display_name": "Python 2",
   "language": "python",
   "name": "python2"
  },
  "language_info": {
   "codemirror_mode": {
    "name": "ipython",
    "version": 2
   },
   "file_extension": ".py",
   "mimetype": "text/x-python",
   "name": "python",
   "nbconvert_exporter": "python",
   "pygments_lexer": "ipython2",
   "version": "2.7.13"
  },
  "widgets": {
   "state": {},
   "version": "1.1.2"
  }
 },
 "nbformat": 4,
 "nbformat_minor": 1
}
