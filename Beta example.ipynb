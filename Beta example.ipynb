{
 "cells": [
  {
   "cell_type": "code",
   "execution_count": 55,
   "metadata": {
    "collapsed": true
   },
   "outputs": [],
   "source": [
    "#ads\n",
    "import numpy as np\n",
    "import scipy.stats as stats\n",
    "import matplotlib.pyplot as plt\n",
    "%matplotlib inline\n",
    "\n",
    "ad1 = [0, 0, 0, 1, 1, 0, 1]\n",
    "\n"
   ]
  },
  {
   "cell_type": "code",
   "execution_count": 83,
   "metadata": {},
   "outputs": [],
   "source": [
    "p = 0.5\n",
    "t = 10000\n",
    "r = stats.beta.rvs(t * p, t * (1 - p), size = t) \n",
    "\n"
   ]
  },
  {
   "cell_type": "code",
   "execution_count": 84,
   "metadata": {},
   "outputs": [
    {
     "name": "stdout",
     "output_type": "stream",
     "text": [
      "0.0825734830366\n",
      "2.499750025e-05\n"
     ]
    }
   ],
   "source": [
    "print np.var(r)\n",
    "print p * (1 - p) / (t + 1)"
   ]
  },
  {
   "cell_type": "code",
   "execution_count": 85,
   "metadata": {
    "collapsed": true
   },
   "outputs": [],
   "source": [
    "def pointPrecentageLessThan(percentage):\n",
    "    pass\n",
    "    "
   ]
  },
  {
   "cell_type": "code",
   "execution_count": 90,
   "metadata": {},
   "outputs": [],
   "source": [
    "#sample from real \n",
    "p = 0.5\n",
    "t = 100\n",
    "r = stats.beta.rvs(t * p, t * (1 - p), size = t) * 4 +  1"
   ]
  },
  {
   "cell_type": "code",
   "execution_count": 91,
   "metadata": {},
   "outputs": [
    {
     "data": {
      "text/plain": [
       "(1, 5)"
      ]
     },
     "execution_count": 91,
     "metadata": {},
     "output_type": "execute_result"
    },
    {
     "data": {
      "image/png": "[encoded data removed]",
      "text/plain": [
       "<matplotlib.figure.Figure at 0x7fb708f78d90>"
      ]
     },
     "metadata": {},
     "output_type": "display_data"
    }
   ],
   "source": [
    "plt.hist(r)\n",
    "plt.xlim(1,5)"
   ]
  },
  {
   "cell_type": "code",
   "execution_count": 269,
   "metadata": {
    "collapsed": true
   },
   "outputs": [],
   "source": [
    "class ratingDist(object):\n",
    "    def __init__(self, r, t):\n",
    "        p = (r - 1.0) / 4\n",
    "        self.alpha = t * p\n",
    "        self.beta = t * (1 - p)\n",
    "        \n",
    "    def sample(self,n):\n",
    "        return stats.beta.rvs(self.alpha, self.beta, size = n) * 4 +  1\n",
    "    \n",
    "    def draw(self):\n",
    "        x = np.linspace(0, 1, 100)\n",
    "        y = stats.beta.pdf(x , self.alpha, self.beta)\n",
    "        plt.plot(x* 4 + 1, y)\n",
    "        \n",
    "    def update(self, arr):\n",
    "        for i in arr:\n",
    "            pi = (i - 1.0) / 4\n",
    "            self.alpha +=  pi\n",
    "            self.beta += 1 - pi\n",
    "            \n",
    "    def pointOfPLess(self, percentage):\n",
    "        return stats.beta.ppf(percentage, self.alpha, self.beta) * 4 + 1"
   ]
  },
  {
   "cell_type": "code",
   "execution_count": 296,
   "metadata": {},
   "outputs": [
    {
     "data": {
      "image/png": "[encoded data removed]",
      "text/plain": [
       "<matplotlib.figure.Figure at 0x7fb70898b4d0>"
      ]
     },
     "metadata": {},
     "output_type": "display_data"
    }
   ],
   "source": [
    "r = ratingDist(3.8, 10)\n",
    "r.draw()"
   ]
  },
  {
   "cell_type": "code",
   "execution_count": 297,
   "metadata": {},
   "outputs": [],
   "source": [
    "ratings = r.sample(1000)"
   ]
  },
  {
   "cell_type": "code",
   "execution_count": 298,
   "metadata": {},
   "outputs": [
    {
     "data": {
      "text/plain": [
       "3.7849501146191145"
      ]
     },
     "execution_count": 298,
     "metadata": {},
     "output_type": "execute_result"
    }
   ],
   "source": [
    "np.mean(ratings)"
   ]
  },
  {
   "cell_type": "code",
   "execution_count": 299,
   "metadata": {},
   "outputs": [
    {
     "data": {
      "text/plain": [
       "(array([  2.,   0.,   0.,   0.,   0.,   0.,   1.,   1.,   0.,   0.,   0.,\n",
       "          0.,   1.,   1.,   2.,   3.,   1.,   1.,   2.,   2.,   3.,   3.,\n",
       "          2.,   2.,   5.,   2.,   4.,   1.,   1.,   9.,   6.,   6.,   7.,\n",
       "          3.,   9.,   7.,   7.,   8.,   6.,   6.,   9.,   9.,  14.,  12.,\n",
       "         10.,   7.,  19.,  12.,  13.,  13.,  16.,  17.,  18.,  11.,  24.,\n",
       "         18.,  27.,  16.,  21.,  22.,  19.,  15.,  19.,  24.,  20.,  25.,\n",
       "         15.,  22.,  24.,  18.,  23.,  18.,  19.,  23.,  25.,  20.,  16.,\n",
       "         12.,  18.,  15.,  13.,  17.,  12.,  15.,  19.,  18.,  10.,   8.,\n",
       "         12.,   9.,   9.,   6.,   8.,   8.,   8.,   6.,   4.,   0.,   4.,\n",
       "          2.]),\n",
       " array([ 1.87405259,  1.90449002,  1.93492745,  1.96536487,  1.9958023 ,\n",
       "         2.02623972,  2.05667715,  2.08711458,  2.117552  ,  2.14798943,\n",
       "         2.17842685,  2.20886428,  2.23930171,  2.26973913,  2.30017656,\n",
       "         2.33061398,  2.36105141,  2.39148884,  2.42192626,  2.45236369,\n",
       "         2.48280111,  2.51323854,  2.54367597,  2.57411339,  2.60455082,\n",
       "         2.63498824,  2.66542567,  2.6958631 ,  2.72630052,  2.75673795,\n",
       "         2.78717537,  2.8176128 ,  2.84805023,  2.87848765,  2.90892508,\n",
       "         2.9393625 ,  2.96979993,  3.00023736,  3.03067478,  3.06111221,\n",
       "         3.09154963,  3.12198706,  3.15242449,  3.18286191,  3.21329934,\n",
       "         3.24373676,  3.27417419,  3.30461162,  3.33504904,  3.36548647,\n",
       "         3.39592389,  3.42636132,  3.45679875,  3.48723617,  3.5176736 ,\n",
       "         3.54811102,  3.57854845,  3.60898588,  3.6394233 ,  3.66986073,\n",
       "         3.70029815,  3.73073558,  3.76117301,  3.79161043,  3.82204786,\n",
       "         3.85248528,  3.88292271,  3.91336014,  3.94379756,  3.97423499,\n",
       "         4.00467241,  4.03510984,  4.06554727,  4.09598469,  4.12642212,\n",
       "         4.15685954,  4.18729697,  4.2177344 ,  4.24817182,  4.27860925,\n",
       "         4.30904667,  4.3394841 ,  4.36992153,  4.40035895,  4.43079638,\n",
       "         4.4612338 ,  4.49167123,  4.52210866,  4.55254608,  4.58298351,\n",
       "         4.61342093,  4.64385836,  4.67429578,  4.70473321,  4.73517064,\n",
       "         4.76560806,  4.79604549,  4.82648291,  4.85692034,  4.88735777,\n",
       "         4.91779519]),\n",
       " <a list of 100 Patch objects>)"
      ]
     },
     "execution_count": 299,
     "metadata": {},
     "output_type": "execute_result"
    },
    {
     "data": {
      "image/png": "[encoded data removed]",
      "text/plain": [
       "<matplotlib.figure.Figure at 0x7fb708dbbc50>"
      ]
     },
     "metadata": {},
     "output_type": "display_data"
    }
   ],
   "source": [
    "plt.hist(ratings, bins=100)"
   ]
  },
  {
   "cell_type": "raw",
   "metadata": {},
   "source": []
  },
  {
   "cell_type": "code",
   "execution_count": 300,
   "metadata": {},
   "outputs": [
    {
     "data": {
      "image/png": "[encoded data removed]",
      "text/plain": [
       "<matplotlib.figure.Figure at 0x7fb7089dced0>"
      ]
     },
     "metadata": {},
     "output_type": "display_data"
    }
   ],
   "source": [
    "re = ratingDist(3.0, 2)\n",
    "re.draw()"
   ]
  },
  {
   "cell_type": "code",
   "execution_count": 301,
   "metadata": {},
   "outputs": [
    {
     "data": {
      "image/png": "[encoded data removed]",
      "text/plain": [
       "<matplotlib.figure.Figure at 0x7fb7082a09d0>"
      ]
     },
     "metadata": {},
     "output_type": "display_data"
    }
   ],
   "source": [
    "re.update(ratings[:10])\n",
    "re.draw()"
   ]
  },
  {
   "cell_type": "code",
   "execution_count": 302,
   "metadata": {},
   "outputs": [
    {
     "data": {
      "text/plain": [
       "2.9043203078791824"
      ]
     },
     "execution_count": 302,
     "metadata": {},
     "output_type": "execute_result"
    }
   ],
   "source": [
    "re.pointOfPLess(0.1)"
   ]
  },
  {
   "cell_type": "code",
   "execution_count": 303,
   "metadata": {},
   "outputs": [
    {
     "data": {
      "text/plain": [
       "<matplotlib.collections.LineCollection at 0x7fb70824e3d0>"
      ]
     },
     "execution_count": 303,
     "metadata": {},
     "output_type": "execute_result"
    },
    {
     "data": {
      "image/png": "[encoded data removed]",
      "text/plain": [
       "<matplotlib.figure.Figure at 0x7fb70824e410>"
      ]
     },
     "metadata": {},
     "output_type": "display_data"
    }
   ],
   "source": [
    "re.update(ratings[10:])\n",
    "re.draw()\n",
    "plt.vlines(2, 0, 20, color=\"k\", linestyles=\"--\", lw=1)"
   ]
  },
  {
   "cell_type": "code",
   "execution_count": 304,
   "metadata": {},
   "outputs": [
    {
     "data": {
      "text/plain": [
       "3.7085664311593094"
      ]
     },
     "execution_count": 304,
     "metadata": {},
     "output_type": "execute_result"
    }
   ],
   "source": [
    "re.pointOfPLess(0.1)"
   ]
  },
  {
   "cell_type": "code",
   "execution_count": null,
   "metadata": {
    "collapsed": true
   },
   "outputs": [],
   "source": []
  }
 ],
 "metadata": {
  "kernelspec": {
   "display_name": "Python 2",
   "language": "python",
   "name": "python2"
  },
  "language_info": {
   "codemirror_mode": {
    "name": "ipython",
    "version": 2
   },
   "file_extension": ".py",
   "mimetype": "text/x-python",
   "name": "python",
   "nbconvert_exporter": "python",
   "pygments_lexer": "ipython2",
   "version": "2.7.13"
  },
  "widgets": {
   "state": {},
   "version": "1.1.2"
  }
 },
 "nbformat": 4,
 "nbformat_minor": 1
}
