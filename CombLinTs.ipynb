{
 "cells": [
  {
   "cell_type": "code",
   "execution_count": 3,
   "metadata": {
    "collapsed": true
   },
   "outputs": [],
   "source": [
    "from sklearn.datasets import load_boston\n",
    "import numpy as np\n",
    "from easydict import EasyDict as edict\n",
    "from pdb import set_trace\n",
    "import numpy as np\n",
    "from collections import OrderedDict"
   ]
  },
  {
   "cell_type": "code",
   "execution_count": 4,
   "metadata": {
    "collapsed": true
   },
   "outputs": [],
   "source": [
    "class CombLinTs:\n",
    "    def __init__(self, features_dim, p_lambda, p_sigma, solver, oracle):\n",
    "        self.d = features_dim\n",
    "        self.p_lambda = p_lambda\n",
    "        self.p_sigma = p_sigma\n",
    "        self.sigma = (p_lambda ** 2) * np.eye(self.d)\n",
    "        self.theta = np.zeros(self.d)\n",
    "        self.solver = solver\n",
    "        self.oracle = oracle\n",
    "        \n",
    "    def sample_theta(self):\n",
    "        return np.random.multivariate_normal(self.theta, self.sigma)\n",
    "    \n",
    "    def update_params(self, features, weights):\n",
    "        theta = self.theta\n",
    "        sigma = self.sigma\n",
    "        \n",
    "        n = len(weights)\n",
    "        \n",
    "        for i in range(n):\n",
    "            f_vec = np.expand_dims(features[i], axis=1)\n",
    "            t1 = np.matmul(sigma, np.matmul(f_vec, f_vec.T))\n",
    "            t2 = np.matmul(f_vec.T, np.matmul(sigma, f_vec)) + self.p_sigma ** 2\n",
    "            t3 = np.matmul(sigma, f_vec)\n",
    "            t4 = np.matmul(np.matmul(f_vec.T, sigma), f_vec) + self.p_sigma ** 2\n",
    "            theta = np.matmul((np.eye(sigma.shape[0]) - t1 / t2), theta) + \\\n",
    "                        np.squeeze(t3 / t4) * weights[i]\n",
    "\n",
    "            t1 = np.matmul(np.matmul(sigma, np.matmul(f_vec, f_vec.T)), sigma)\n",
    "            t2 = np.matmul(np.matmul(f_vec.T, sigma), f_vec) + self.p_sigma ** 2\n",
    "            sigma = sigma - t1/t2\n",
    "\n",
    "        self.theta = theta\n",
    "        self.sigma = sigma\n",
    "            \n",
    "    def bandit_iter(self, problem):\n",
    "        theta = self.sample_theta()\n",
    "        At = self.solver.solve(problem, np.matmul(problem.features, theta))\n",
    "        wAt = self.oracle.observe(problem, At)\n",
    "        self.update_params(problem.features[At], wAt)\n",
    "        \n",
    "    def solve(self, problem):\n",
    "        theta = self.sample_theta()\n",
    "        return self.solver.solve(problem, np.matmul(problem.features, theta))"
   ]
  },
  {
   "cell_type": "code",
   "execution_count": 5,
   "metadata": {
    "collapsed": true
   },
   "outputs": [],
   "source": [
    "class Oracle:\n",
    "    def observe(self, problem_info, solution):\n",
    "        pass\n",
    "    \n",
    "class Solver:\n",
    "    def solve(self, problem_info, weights):\n",
    "        pass"
   ]
  },
  {
   "cell_type": "code",
   "execution_count": 6,
   "metadata": {
    "collapsed": true
   },
   "outputs": [],
   "source": [
    "problem_info = load_boston()\n",
    "problem = edict({'problem_info': problem_info, 'features': problem_info[\"data\"]})"
   ]
  },
  {
   "cell_type": "code",
   "execution_count": 7,
   "metadata": {
    "collapsed": true
   },
   "outputs": [],
   "source": [
    "class BostenSolver(Solver):\n",
    "    def solve(self, problem, weights):\n",
    "        return (-weights).argsort()[:50]\n",
    "    \n",
    "class BostenOracle(Oracle):\n",
    "    def observe(self, problem, solution):\n",
    "        return problem.problem_info.target[solution]\n",
    "    "
   ]
  },
  {
   "cell_type": "code",
   "execution_count": 8,
   "metadata": {
    "collapsed": true
   },
   "outputs": [],
   "source": [
    "bs = BostenSolver()\n",
    "bo = BostenOracle()\n"
   ]
  },
  {
   "cell_type": "code",
   "execution_count": 9,
   "metadata": {},
   "outputs": [
    {
     "name": "stdout",
     "output_type": "stream",
     "text": [
      "[204 267 257 225 195 368 369 370 371 372 283 186 163 161 166 162 262 203\n",
      " 233 228 282 280 224 256  98 268 261 253 202 232 157 180  97 182 226 291\n",
      " 179 190 264 192   4 181 304 258 281  55 273 279 189 199]\n",
      "[50.  50.  50.  50.  50.  50.  50.  50.  50.  50.  50.  50.  50.  50.\n",
      " 50.  50.  48.8 48.5 48.3 46.7 46.  45.4 44.8 44.  43.8 43.5 43.1 42.8\n",
      " 42.3 41.7 41.3 39.8 38.7 37.9 37.6 37.3 37.2 37.  36.5 36.4 36.2 36.2\n",
      " 36.1 36.  35.4 35.4 35.2 35.1 34.9 34.9]\n",
      "2164.8\n"
     ]
    }
   ],
   "source": [
    "At = bs.solve(problem, problem_info.target)\n",
    "print(At)\n",
    "print(bo.observe(problem, At))\n",
    "print(np.sum(bo.observe(problem, At)))"
   ]
  },
  {
   "cell_type": "code",
   "execution_count": 10,
   "metadata": {
    "collapsed": true
   },
   "outputs": [],
   "source": [
    "p_lambda = 10.\n",
    "p_sigma = 0.1\n",
    "features_dim = problem_info['data'].shape[1]\n",
    "bandit = CombLinTs(features_dim=features_dim, p_lambda=p_lambda,\n",
    "                     p_sigma=p_sigma, solver=bs, oracle=bo)"
   ]
  },
  {
   "cell_type": "code",
   "execution_count": 11,
   "metadata": {},
   "outputs": [
    {
     "name": "stdout",
     "output_type": "stream",
     "text": [
      "984.9000000000001\n",
      "2050.7999999999997\n",
      "2058.3\n",
      "2063.7000000000003\n",
      "2063.7000000000003\n"
     ]
    },
    {
     "name": "stderr",
     "output_type": "stream",
     "text": [
      "/home/halshater/anaconda/envs/gc_vision/lib/python2.7/site-packages/ipykernel_launcher.py:12: RuntimeWarning: covariance is not positive-semidefinite.\n",
      "  if sys.path[0] == '':\n"
     ]
    }
   ],
   "source": [
    "for i in range(10):\n",
    "    bandit.bandit_iter(problem=problem)\n",
    "    if i % 2 == 0:\n",
    "        At = bandit.solve(problem)\n",
    "        print np.sum(bo.observe(problem, At))"
   ]
  },
  {
   "cell_type": "code",
   "execution_count": 12,
   "metadata": {},
   "outputs": [
    {
     "name": "stdout",
     "output_type": "stream",
     "text": [
      "Learnt\n",
      "2063.7000000000003\n",
      "\n",
      "Actual\n",
      "2164.8\n"
     ]
    }
   ],
   "source": [
    "print (\"Learnt\")\n",
    "At = bandit.solve(problem)\n",
    "print(np.sum(bo.observe(problem, At)))\n",
    "\n",
    "print\n",
    "print (\"Actual\")\n",
    "At = bs.solve(problem, problem_info.target)\n",
    "print(np.sum(bo.observe(problem, At)))"
   ]
  },
  {
   "cell_type": "code",
   "execution_count": 13,
   "metadata": {
    "collapsed": true
   },
   "outputs": [],
   "source": [
    "import numpy as np\n"
   ]
  },
  {
   "cell_type": "code",
   "execution_count": 14,
   "metadata": {
    "collapsed": true
   },
   "outputs": [],
   "source": [
    "#https://people.eecs.berkeley.edu/~jordan/courses/260-spring10/lectures/lecture5.pdf\n",
    "\n",
    "class GaussianLearner:\n",
    "    def __init__(self, mu0, n0, tau0, alpha0, beta0):\n",
    "        self.params = (float(mu0), float(n0), float(alpha0), float(beta0))\n",
    "    def update_batch(self, x):\n",
    "        mu0, v, alpha, beta = self.params\n",
    "        n = len(x)\n",
    "        xbar = np.mean(x)\n",
    "        self.params = ((v * mu0 + n * xbar) / (v + n),\n",
    "            v + n,\n",
    "            alpha + n /2, \n",
    "            beta + 0.5 * np.sum((x - xbar) ** 2) + (n * v) / (n + v) * (xbar - mu0) ** 2 / 2)\n",
    "    def sample(self):\n",
    "        mu, std = self.sample_params()\n",
    "        return np.random.normal(mu, std)\n",
    "    def sample_params(self):\n",
    "        mu0, v, alpha, beta = self.params\n",
    "        tau_sample = np.random.gamma(alpha, 1. / beta) \n",
    "        mu_sample = np.random.normal(mu0, np.sqrt(1. / (v * tau_sample)))\n",
    "        return mu_sample, np.sqrt(1. / (tau_sample))"
   ]
  },
  {
   "cell_type": "code",
   "execution_count": 15,
   "metadata": {
    "collapsed": true
   },
   "outputs": [],
   "source": [
    "class BernoulliLearner:\n",
    "    def __init__(self, alpha0, beta0):\n",
    "        self.params = (alpha0, beta0)\n",
    "    \n",
    "    def update_batch(self, x):\n",
    "        xp = np.sum(x==1)\n",
    "        xn = np.sum(x==0)\n",
    "        alpha0, beta0 = self.params\n",
    "        #set_trace()\n",
    "        self.params = (alpha0 + xp, beta0 + xn)\n",
    "        \n",
    "    def sample(self):\n",
    "        alpha, beta = self.params\n",
    "        theta_sample = np.random.beta(alpha, beta) \n",
    "        return np.random.binomial(1, theta_sample)"
   ]
  },
  {
   "cell_type": "code",
   "execution_count": 16,
   "metadata": {},
   "outputs": [
    {
     "data": {
      "text/plain": [
       "0"
      ]
     },
     "execution_count": 16,
     "metadata": {},
     "output_type": "execute_result"
    }
   ],
   "source": [
    "bl = BernoulliLearner(1.0, 1.0)\n",
    "bl.update_batch(np.array([1, 0, 0, 0, 1, 0, 1]*1000))\n",
    "bl.sample()"
   ]
  },
  {
   "cell_type": "code",
   "execution_count": 17,
   "metadata": {
    "scrolled": true
   },
   "outputs": [
    {
     "data": {
      "text/plain": [
       "4.285484709513354"
      ]
     },
     "execution_count": 17,
     "metadata": {},
     "output_type": "execute_result"
    }
   ],
   "source": [
    "gl = GaussianLearner(0.0, 2.0, 1.0, .02, .02)\n",
    "gl.update_batch(np.array([5, 3.0, 3, 4, 1, 4, 10]*1000))\n",
    "gl.sample()"
   ]
  },
  {
   "cell_type": "code",
   "execution_count": 18,
   "metadata": {},
   "outputs": [
    {
     "data": {
      "text/plain": [
       "4.468704464594442"
      ]
     },
     "execution_count": 18,
     "metadata": {},
     "output_type": "execute_result"
    }
   ],
   "source": [
    "gl = GaussianLearner(0, 10, 1, 2.0, 2.0)\n",
    "for i in [5, 3.0, 3, 4, 1, 4, 10]*1000:\n",
    "    gl.update_batch(np.array([i]))\n",
    "gl.sample()"
   ]
  },
  {
   "cell_type": "code",
   "execution_count": 19,
   "metadata": {
    "collapsed": true
   },
   "outputs": [],
   "source": [
    "class Bandit:\n",
    "    def __init__(self, arm_class, arm_init_params, n_arms):\n",
    "        self.arms = [arm_class(*arm_init_params) for arm in range(n_arms)]\n",
    "    \n",
    "    def thompson_sample(self):\n",
    "        samples = np.array([self.arms[i].sample() for i in range(len(self.arms))])\n",
    "        sample = np.random.choice(np.where(samples[np.argmax(samples)] == samples)[0], 1)[0]\n",
    "        return (sample, samples[sample])\n",
    "    \n",
    "    def sumbit_feedback(self, arm, result_array):\n",
    "        self.arms[arm].update_batch(result_array)\n"
   ]
  },
  {
   "cell_type": "code",
   "execution_count": 20,
   "metadata": {
    "collapsed": true
   },
   "outputs": [],
   "source": [
    "b = Bandit(GaussianLearner, (0, 2, 0.01, 0.2, 0.2), 6)"
   ]
  },
  {
   "cell_type": "code",
   "execution_count": 21,
   "metadata": {
    "collapsed": true
   },
   "outputs": [],
   "source": [
    "gt = np.array([0, 2, 7.9, -3, 8.2, 8.004])"
   ]
  },
  {
   "cell_type": "code",
   "execution_count": 22,
   "metadata": {
    "collapsed": true,
    "scrolled": true
   },
   "outputs": [],
   "source": [
    "for i in range(100):\n",
    "    arm, val = b.thompson_sample()\n",
    "    #print arm, val\n",
    "    b.sumbit_feedback(arm, np.array([gt[arm] + (np.random.random() - 0.5) * 4]))"
   ]
  },
  {
   "cell_type": "code",
   "execution_count": 23,
   "metadata": {},
   "outputs": [
    {
     "name": "stdout",
     "output_type": "stream",
     "text": [
      "(7.160752822989986, 22.0, 50.99999999999999)\n",
      "(7.998961980904404, 66.0, 161.0)\n",
      "(6.022395230796314, 10.0, 21.0)\n"
     ]
    }
   ],
   "source": [
    "print b.arms[2].mu_params\n",
    "print b.arms[4].mu_params\n",
    "print b.arms[5].mu_params"
   ]
  },
  {
   "cell_type": "code",
   "execution_count": 24,
   "metadata": {
    "collapsed": true
   },
   "outputs": [],
   "source": [
    "b = Bandit(BernoulliLearner, (5.0, 1.), 6)\n",
    "gt = np.array([0.9, 0.8, 0.3, 0.01, 0.5, .004])\n",
    "\n",
    "for i in range(1000):\n",
    "    arm, val = b.thompson_sample()\n",
    "    #print arm, val\n",
    "    b.sumbit_feedback(arm, np.array(np.random.binomial(1, gt[arm])))"
   ]
  },
  {
   "cell_type": "code",
   "execution_count": 25,
   "metadata": {},
   "outputs": [
    {
     "name": "stdout",
     "output_type": "stream",
     "text": [
      "0.8872832369942196\n",
      "0.7669172932330827\n",
      "0.32558139534883723\n",
      "0.10204081632653061\n",
      "0.5212765957446809\n",
      "0.08620689655172414\n"
     ]
    }
   ],
   "source": [
    "for i in range(6):\n",
    "    print b.arms[i].params[0] / np.sum(b.arms[i].params)\n",
    "    #print b.arms[i].params"
   ]
  },
  {
   "cell_type": "code",
   "execution_count": 26,
   "metadata": {},
   "outputs": [
    {
     "data": {
      "text/plain": [
       "(204.0, 62.0)"
      ]
     },
     "execution_count": 26,
     "metadata": {},
     "output_type": "execute_result"
    }
   ],
   "source": [
    "b.arms[1].params"
   ]
  },
  {
   "cell_type": "code",
   "execution_count": 27,
   "metadata": {
    "collapsed": true
   },
   "outputs": [],
   "source": [
    "# TODO\n",
    "# How do learning occure ?\n",
    "# plot hoeffding vs eperical error\n",
    "# A/B testing\n",
    "# Beta-Ber bandit\n",
    "# Gaussian bandit\n",
    "# LinUCB\n",
    "\n",
    "# CombLinTs\n",
    "# Shortest path \n",
    "# Mathcing (constraint satisfaction)\n",
    "\n",
    "# What if we even do not have a problem structure at all ?!"
   ]
  },
  {
   "cell_type": "code",
   "execution_count": 28,
   "metadata": {
    "collapsed": true
   },
   "outputs": [],
   "source": [
    "# 10 workers, each 5 tasks, work can flow given certain network structuer\n",
    "\n",
    "# request (a, b, c, d, e)\n",
    "\n",
    "# weight \n",
    "# brockalbe \n",
    "# fresh\n",
    "# size\n",
    "\n",
    "# worker \n",
    "# skills\n",
    "\n"
   ]
  },
  {
   "cell_type": "code",
   "execution_count": 29,
   "metadata": {
    "collapsed": true
   },
   "outputs": [],
   "source": [
    "# from https://github.com/elemel/python-astar/blob/master/src/astar.py\n",
    "from heapq import heappush, heappop\n",
    "from sys import maxint\n",
    "\n",
    "F, H, NUM, G, POS, OPEN, VALID, PARENT = xrange(8)\n",
    "\n",
    "def astar(start_pos, neighbors, goal, start_g, cost, heuristic, limit=maxint,\n",
    "          debug=None):\n",
    "\n",
    "    \"\"\"Find the shortest path from start to goal.\n",
    "    Arguments:\n",
    "      start_pos      - The starting position.\n",
    "      neighbors(pos) - A function returning all neighbor positions of the given\n",
    "                       position.\n",
    "      goal(pos)      - A function returning true given a goal position, false\n",
    "                       otherwise.\n",
    "      start_g        - The starting cost.\n",
    "      cost(a, b)     - A function returning the cost for moving from one\n",
    "                       position to another.\n",
    "      heuristic(pos) - A function returning an estimate of the total cost\n",
    "                       remaining for reaching goal from the given position.\n",
    "                       Overestimates can yield suboptimal paths.\n",
    "      limit          - The maximum number of positions to search.\n",
    "      debug(nodes)   - This function will be called with a dictionary of all\n",
    "                       nodes.\n",
    "    The function returns the best path found. The returned path excludes the\n",
    "    starting position.\n",
    "    \"\"\"\n",
    "\n",
    "    # Create the start node.\n",
    "    nums = iter(xrange(maxint))\n",
    "    start_h = heuristic(start_pos)\n",
    "    start = [start_g + start_h, start_h, nums.next(), start_g, start_pos, True,\n",
    "             True, None]\n",
    "\n",
    "    # Track all nodes seen so far.\n",
    "    nodes = {start_pos: start}\n",
    "\n",
    "    # Maintain a heap of nodes.\n",
    "    heap = [start]\n",
    "\n",
    "    # Track the best path found so far.\n",
    "    best = start\n",
    "\n",
    "    while heap:\n",
    "\n",
    "        # Pop the next node from the heap.\n",
    "        current = heappop(heap)\n",
    "        current[OPEN] = False\n",
    "\n",
    "        # Have we reached the goal?\n",
    "        if goal(current[POS]):\n",
    "            best = current\n",
    "            break\n",
    "\n",
    "        # Visit the neighbors of the current node.\n",
    "        for neighbor_pos in neighbors(current[POS]):\n",
    "            neighbor_g = current[G] + cost(current[POS], neighbor_pos)\n",
    "            neighbor = nodes.get(neighbor_pos)\n",
    "            if neighbor is None:\n",
    "\n",
    "                # Limit the search.\n",
    "                if len(nodes) >= limit:\n",
    "                    continue\n",
    "\n",
    "                # We have found a new node.\n",
    "                neighbor_h = heuristic(neighbor_pos)\n",
    "                neighbor = [neighbor_g + neighbor_h, neighbor_h, nums.next(),\n",
    "                            neighbor_g, neighbor_pos, True, True, current[POS]]\n",
    "                nodes[neighbor_pos] = neighbor\n",
    "                heappush(heap, neighbor)\n",
    "                if neighbor_h < best[H]:\n",
    "\n",
    "                    # We are approaching the goal.\n",
    "                    best = neighbor\n",
    "\n",
    "            elif neighbor_g < neighbor[G]:\n",
    "\n",
    "                # We have found a better path to the neighbor.\n",
    "                if neighbor[OPEN]:\n",
    "\n",
    "                    # The neighbor is already open. Finding and updating it\n",
    "                    # in the heap would be a linear complexity operation.\n",
    "                    # Instead we mark the neighbor as invalid and make an\n",
    "                    # updated copy of it.\n",
    "\n",
    "                    neighbor[VALID] = False\n",
    "                    nodes[neighbor_pos] = neighbor = neighbor[:]\n",
    "                    neighbor[F] = neighbor_g + neighbor[H]\n",
    "                    neighbor[NUM] = nums.next()\n",
    "                    neighbor[G] = neighbor_g\n",
    "                    neighbor[VALID] = True\n",
    "                    neighbor[PARENT] = current[POS]\n",
    "                    heappush(heap, neighbor)\n",
    "\n",
    "                else:\n",
    "\n",
    "                    # Reopen the neighbor.\n",
    "                    neighbor[F] = neighbor_g + neighbor[H]\n",
    "                    neighbor[G] = neighbor_g\n",
    "                    neighbor[PARENT] = current[POS]\n",
    "                    neighbor[OPEN] = True\n",
    "                    heappush(heap, neighbor)\n",
    "\n",
    "        # Discard leading invalid nodes from the heap.\n",
    "        while heap and not heap[0][VALID]:\n",
    "            heappop(heap)\n",
    "\n",
    "    if debug is not None:\n",
    "        # Pass the dictionary of nodes to the caller.\n",
    "        debug(nodes)\n",
    "\n",
    "    # Return the best path as a list.\n",
    "    path = []\n",
    "    current = best\n",
    "    while current[PARENT] is not None:\n",
    "        path.append(current[POS])\n",
    "        current = nodes[current[PARENT]]\n",
    "    path.reverse()\n",
    "    return path"
   ]
  },
  {
   "cell_type": "code",
   "execution_count": 30,
   "metadata": {
    "collapsed": true
   },
   "outputs": [],
   "source": [
    "pathes = {'s': ['0', '1'],\n",
    "          '1': ['2', '3', '4'],\n",
    "          '0': ['2', '3', '4'],\n",
    "          '2': ['7', '8'],\n",
    "          '3': ['5', '6', '8'],\n",
    "          '4': ['5', '6'],\n",
    "          '5': ['9'],\n",
    "          '6': ['10'],\n",
    "          '7': ['9'],\n",
    "          '8': ['9', '10'],\n",
    "          '9': ['e'],\n",
    "          '10': ['e']}\n",
    "\n",
    "def neighbors(x):\n",
    "    return pathes[x]\n",
    "\n",
    "def build_weights(pathes):\n",
    "    weights = {}\n",
    "    for n, neighbours in pathes.items():\n",
    "        for nbr in neighbours:\n",
    "            weights[(n, nbr)] = np.random.uniform(0, 1, 1)[0]\n",
    "    return weights\n",
    "\n",
    "weights = build_weights(pathes)\n",
    "\n",
    "def get_weight(x, y):\n",
    "    return weights[(x, y)]\n",
    "\n",
    "class ShortestPathProblem:\n",
    "    def __init__(self):\n",
    "        self.neighbors = neighbors\n",
    "        self.get_weight = get_weight\n",
    "        self.idx2arms = {str(k): v for (k, v) in enumerate(weights.keys())}\n",
    "        self.arms2idx = {v: k for k, v in self.idx2arms.items()}\n",
    "shortest_path_problem = ShortestPathProblem()"
   ]
  },
  {
   "cell_type": "code",
   "execution_count": 31,
   "metadata": {
    "collapsed": true
   },
   "outputs": [],
   "source": [
    "class ShortestPathSolver(Solver):\n",
    "    def solve(self, problem, weights):\n",
    "        At = astar('s', problem.neighbors, lambda x: x == 'e', 0, lambda x, y: weights(x, y), lambda x: 0, limit=maxint,\n",
    "          debug=None) \n",
    "        return zip(['s'] + At[:-1], At)\n",
    "    \n",
    "class ShortestPathOracle(Oracle):\n",
    "    def observe(self, problem, solution):\n",
    "        return [problem.get_weight(x, y) for (x, y) in solution]\n",
    "    "
   ]
  },
  {
   "cell_type": "code",
   "execution_count": 32,
   "metadata": {
    "collapsed": true
   },
   "outputs": [],
   "source": [
    "class CombUcb1:\n",
    "    def __init__(self, problem, solver, oracle, mode='Max'):\n",
    "        self.problem = problem\n",
    "        self.solver = solver\n",
    "        self.oracle = oracle\n",
    "        self.arms = [str(i) for i in range(len(problem.arms2idx))]\n",
    "        self.mode = mode\n",
    "        self.init_algorithm()\n",
    "        \n",
    "    def init_algorithm(self):\n",
    "        u = np.ones(len(self.arms))\n",
    "        w = np.zeros(len(self.arms))\n",
    "        t = 0\n",
    "        for arm in range(len(self.arms)):\n",
    "            if self.mode == 'Max':\n",
    "                u[arm] = 1\n",
    "            elif self.mode == 'Min':\n",
    "                u[arm] = 0\n",
    "            else:\n",
    "                raise 'Mode is only Max or Min'\n",
    "            w[arm] = 0\n",
    "        solution_exists = True\n",
    "        while solution_exists and np.sum(u) > 0: \n",
    "            At = self.solver.solve(self.problem, lambda x, y: u[int(self.problem.arms2idx[(x, y)])])\n",
    "            if At is None:\n",
    "                solution_exists = False\n",
    "                break\n",
    "            AtW = self.oracle.observe(self.problem, At)\n",
    "            for idx, e in enumerate(At):\n",
    "                e = int(self.problem.arms2idx[e])\n",
    "                w[e] = AtW[idx]\n",
    "                if self.mode == 'Max':\n",
    "                    u[arm] = 0\n",
    "                elif self.mode == 'Min':\n",
    "                    u[arm] = 1\n",
    "                else:\n",
    "                    raise 'Mode is only Max or Min'\n",
    "            t += 1\n",
    "        self.weights = w\n",
    "        self.time_steps = np.ones(len(self.arms)) \n",
    "        self.t = t\n",
    "        \n",
    "    def bandit_iter(self):\n",
    "        weights = self.weights\n",
    "        time_steps = self.time_steps\n",
    "        t = self.t\n",
    "        if self.mode == 'Max':\n",
    "            u_ucb = weights - np.sqrt(1.5 * np.log(t)/time_steps)\n",
    "        elif self.mode == 'Min':\n",
    "            u_ucb = weights - np.sqrt(1.5 * np.log(t)/time_steps)\n",
    "        else:\n",
    "            raise 'Mode is only Max or Min'\n",
    "        At = self.solver.solve(self.problem, lambda x, y: u_ucb[int(self.problem.arms2idx[(x, y)])])\n",
    "        wAt = self.oracle.observe(self.problem, At)\n",
    "        \n",
    "        for idx, e in enumerate(At):\n",
    "            arm = int(self.problem.arms2idx[e])\n",
    "            weights[arm] = (time_steps[arm] * weights[arm] + wAt[idx]) / (time_steps[arm] + 1)\n",
    "            time_steps[arm] += 1\n",
    "        t += 1\n",
    "        self.time_steps = time_steps\n",
    "        self.weights = weights\n",
    "        self.t = t        \n",
    "        \n",
    "    def solve(self, problem):\n",
    "        weights = self.weights\n",
    "        time_steps = self.time_steps\n",
    "        t = self.t\n",
    "        u_ucb = weights\n",
    "        At = self.solver.solve(self.problem, lambda x, y: u_ucb[int(self.problem.arms2idx[(x, y)])])\n",
    "        return At"
   ]
  },
  {
   "cell_type": "code",
   "execution_count": 34,
   "metadata": {},
   "outputs": [
    {
     "data": {
      "text/plain": [
       "1.5690964126189044"
      ]
     },
     "execution_count": 34,
     "metadata": {},
     "output_type": "execute_result"
    }
   ],
   "source": [
    "sps = ShortestPathSolver()\n",
    "spo = ShortestPathOracle()\n",
    "At = sps.solve(shortest_path_problem, shortest_path_problem.get_weight)\n",
    "np.sum(spo.observe(shortest_path_problem, At))"
   ]
  },
  {
   "cell_type": "code",
   "execution_count": 35,
   "metadata": {},
   "outputs": [
    {
     "name": "stdout",
     "output_type": "stream",
     "text": [
      "2.367257722050806\n",
      "2.000071870781739\n",
      "1.5690964126189044\n",
      "1.5690964126189044\n"
     ]
    },
    {
     "name": "stderr",
     "output_type": "stream",
     "text": [
      "/home/halshater/anaconda/envs/gc_vision/lib/python2.7/site-packages/ipykernel_launcher.py:50: RuntimeWarning: divide by zero encountered in log\n",
      "/home/halshater/anaconda/envs/gc_vision/lib/python2.7/site-packages/ipykernel_launcher.py:50: RuntimeWarning: invalid value encountered in sqrt\n"
     ]
    }
   ],
   "source": [
    "b = CombUcb1(problem=shortest_path_problem, solver=sps, oracle=spo, mode='Min')\n",
    "\n",
    "for i in range(20):\n",
    "    b.bandit_iter()\n",
    "    At = b.solve(shortest_path_problem)\n",
    "    if i % 5 == 0:\n",
    "        print np.sum(spo.observe(shortest_path_problem, At))\n",
    "    "
   ]
  },
  {
   "cell_type": "code",
   "execution_count": 36,
   "metadata": {
    "collapsed": true
   },
   "outputs": [],
   "source": [
    "#####################"
   ]
  },
  {
   "cell_type": "code",
   "execution_count": 37,
   "metadata": {
    "collapsed": true
   },
   "outputs": [],
   "source": [
    "import numpy as np\n",
    "from pyomo import environ as pe\n"
   ]
  },
  {
   "cell_type": "code",
   "execution_count": 38,
   "metadata": {
    "collapsed": true,
    "scrolled": true
   },
   "outputs": [],
   "source": [
    "def solve_stylest_matching(stylist_workloads, clients, happiness_probabilities):\n",
    "    model = pe.ConcreteModel()\n",
    "    model.stylists = pe.Set(initialize=stylist_workloads.keys())\n",
    "    model.clients = pe.Set(initialize=clients)\n",
    "    model.happiness_probabilities = pe.Param(\n",
    "        # On pyomo Set objects, the '*' operator returns the cartesian product\n",
    "        model.stylists * model.clients,\n",
    "        # The dictionary mapping (stylist, client) pairs to chances of a happy outcome\n",
    "        initialize=happiness_probabilities,\n",
    "        # Happiness probabilities are real numbers between 0 and 1\n",
    "        within=pe.UnitInterval)\n",
    "\n",
    "    model.stylist_workloads = pe.Param(\n",
    "        model.stylists,\n",
    "        initialize=stylist_workloads,\n",
    "        within=pe.NonNegativeIntegers)\n",
    "    model.assignments = pe.Var(\n",
    "        # Defined over the client-stylist matrix\n",
    "        model.stylists * model.clients,\n",
    "        # Possible values are 0 and 1\n",
    "        domain=pe.Binary)\n",
    "    model.objective = pe.Objective(\n",
    "        expr=pe.summation(model.happiness_probabilities, model.assignments),\n",
    "        sense=pe.maximize)\n",
    "    def respect_workload(model, stylist):\n",
    "        # Count up all the clients assigned to the stylist\n",
    "        n_clients_assigned_to_stylist = sum(\n",
    "            model.assignments[stylist, client]\n",
    "            for client in model.clients)\n",
    "        # What's the max number of clients this stylist can work with?\n",
    "        max_clients = model.stylist_workloads[stylist]\n",
    "        # Make sure that sum is no more than the stylist's workload\n",
    "        return n_clients_assigned_to_stylist <= max_clients\n",
    "\n",
    "    model.respect_workload = pe.Constraint(\n",
    "        # For each stylist in the set of all stylists...\n",
    "        model.stylists,\n",
    "        # Ensure that total assigned clients at most equal workload!\n",
    "        rule=respect_workload)\n",
    "\n",
    "    def one_stylist_per_client(model, client):\n",
    "        # Count up all the stylists assigned to the client\n",
    "        n_stylists_assigned_to_client = sum(\n",
    "            model.assignments[stylist, client]\n",
    "            for stylist in model.stylists)\n",
    "        # Make sure that sum is equal to one\n",
    "        return n_stylists_assigned_to_client == 1\n",
    "\n",
    "    model.one_stylist_per_client = pe.Constraint(\n",
    "        # For each client in the set of all clients...\n",
    "        model.clients,\n",
    "        # Ensure that exactly one stylist is assigned!\n",
    "        rule=one_stylist_per_client)\n",
    "\n",
    "    # Swap out \"glpk\" for \"cbc\" or \"gurobi\" if using another solver\n",
    "    solver = pe.SolverFactory(\"glpk\")\n",
    "    # Add the keyword arg tee=True for a detailed trace of the solver's work.\n",
    "    solution = solver.solve(model)\n",
    "    return [i for i, j in model.assignments.get_values().items() if j == 1]"
   ]
  },
  {
   "cell_type": "code",
   "execution_count": 39,
   "metadata": {
    "collapsed": true
   },
   "outputs": [],
   "source": [
    "stylist_workloads = {\n",
    "    \"Alex\": 1, \"Jennifer\": 2, \"Andrew\": 2,\n",
    "    \"DeAnna\": 2, \"Jesse\": 3}\n",
    "\n",
    "clients = (\n",
    "    \"Trista\", \"Meredith\", \"Aaron\", \"Bob\", \"Jillian\",\n",
    "    \"Ali\", \"Ashley\", \"Emily\", \"Desiree\", \"Byron\")\n",
    "\n",
    "happiness_probabilities = dict(\n",
    "    ((stylist, client), np.random.rand())\n",
    "    for stylist in stylist_workloads\n",
    "    for client in clients)\n"
   ]
  },
  {
   "cell_type": "code",
   "execution_count": 47,
   "metadata": {
    "collapsed": true
   },
   "outputs": [],
   "source": [
    "#solve_stylest_matching(stylist_workloads, clients, happiness_probabilities)"
   ]
  },
  {
   "cell_type": "code",
   "execution_count": 43,
   "metadata": {
    "collapsed": true
   },
   "outputs": [],
   "source": [
    "class StylesMatchingProblem:\n",
    "    def __init__(self, stylist_workloads, clients, happiness_probabilities):\n",
    "        self.stylist_workloads = stylist_workloads\n",
    "        self.clients = clients\n",
    "        self.happiness_probabilities = happiness_probabilities\n",
    "        self.idx2arms = {str(i): j for i, j in enumerate(happiness_probabilities.keys())}\n",
    "        self.arms2idx = {v: k for k, v in self.idx2arms.items()}\n",
    "    def get_weight(x, y): \n",
    "        return self.happiness_probabilities[(x, y)]"
   ]
  },
  {
   "cell_type": "code",
   "execution_count": 45,
   "metadata": {
    "collapsed": true
   },
   "outputs": [],
   "source": [
    "class StylestMathcingSolver(Solver):\n",
    "    def solve(self, problem, weights):\n",
    "        return solve_stylest_matching(problem.stylist_workloads, problem.clients, problem.happiness_probabilities)\n",
    "    \n",
    "class StylestMathcingOracle(Oracle):\n",
    "    def observe(self, problem, solution):\n",
    "        return [problem.get_weight(x, y) for (x, y) in solution]\n"
   ]
  },
  {
   "cell_type": "code",
   "execution_count": 46,
   "metadata": {},
   "outputs": [
    {
     "data": {
      "text/plain": [
       "1.5690964126189044"
      ]
     },
     "execution_count": 46,
     "metadata": {},
     "output_type": "execute_result"
    }
   ],
   "source": [
    "sp = StylesMatchingProblem()\n",
    "sms = StylestMathcingSolver()\n",
    "smo = StylestMathcingOracle()\n",
    "\n",
    "At = sps.solve(shortest_path_problem, shortest_path_problem.get_weight)\n",
    "np.sum(spo.observe(stylist_workloads, At))"
   ]
  },
  {
   "cell_type": "code",
   "execution_count": null,
   "metadata": {
    "collapsed": true
   },
   "outputs": [],
   "source": [
    "b = CombUcb1(problem=shortest_path_problem, solver=sps, oracle=spo, mode='Min')\n",
    "\n",
    "for i in range(20):\n",
    "    b.bandit_iter()\n",
    "    At = b.solve(shortest_path_problem)\n",
    "    if i % 5 == 0:\n",
    "        print np.sum(spo.observe(shortest_path_problem, At))\n",
    "    "
   ]
  },
  {
   "cell_type": "code",
   "execution_count": 14,
   "metadata": {
    "collapsed": true
   },
   "outputs": [],
   "source": [
    "#!pip install git+https://github.com/Pyomo/pyomo"
   ]
  },
  {
   "cell_type": "code",
   "execution_count": 31,
   "metadata": {
    "collapsed": true
   },
   "outputs": [],
   "source": [
    "# assignments = model.assignments.get_values().items()\n",
    "# for (stylist, client), assigned in sorted(assignments):\n",
    "#     if assigned == 1:\n",
    "#         print \"{} will be styled by {}\".format(client.rjust(8), stylist)\n"
   ]
  },
  {
   "cell_type": "code",
   "execution_count": null,
   "metadata": {
    "collapsed": true
   },
   "outputs": [],
   "source": []
  }
 ],
 "metadata": {
  "kernelspec": {
   "display_name": "Python 2",
   "language": "python",
   "name": "python2"
  },
  "language_info": {
   "codemirror_mode": {
    "name": "ipython",
    "version": 2
   },
   "file_extension": ".py",
   "mimetype": "text/x-python",
   "name": "python",
   "nbconvert_exporter": "python",
   "pygments_lexer": "ipython2",
   "version": "2.7.13"
  },
  "widgets": {
   "state": {},
   "version": "1.1.2"
  }
 },
 "nbformat": 4,
 "nbformat_minor": 2
}
